{
 "cells": [
  {
   "cell_type": "code",
   "execution_count": 1,
   "metadata": {},
   "outputs": [
    {
     "data": {
      "text/plain": [
       "<torch._C.Generator at 0x7f7d5406c250>"
      ]
     },
     "execution_count": 1,
     "metadata": {},
     "output_type": "execute_result"
    }
   ],
   "source": [
    "import torch\n",
    "import torch.autograd as autograd\n",
    "import torch.nn as nn\n",
    "import torch.nn.functional as F\n",
    "import torch.optim as optim\n",
    "\n",
    "torch.manual_seed(1)"
   ]
  },
  {
   "cell_type": "code",
   "execution_count": 2,
   "metadata": {},
   "outputs": [
    {
     "name": "stdout",
     "output_type": "stream",
     "text": [
      "tensor([1., 2., 3.])\n"
     ]
    }
   ],
   "source": [
    "V_data = [1., 2., 3.,]\n",
    "V = torch.tensor(V_data)\n",
    "print(V)"
   ]
  },
  {
   "cell_type": "code",
   "execution_count": 5,
   "metadata": {},
   "outputs": [
    {
     "name": "stdout",
     "output_type": "stream",
     "text": [
      "tensor([[1., 2., 2.],\n",
      "        [4., 5., 6.]])\n"
     ]
    }
   ],
   "source": [
    "M_data = [[1., 2., 2.,], [4., 5., 6]]\n",
    "M = torch.tensor(M_data)\n",
    "print(M)"
   ]
  },
  {
   "cell_type": "code",
   "execution_count": 7,
   "metadata": {},
   "outputs": [
    {
     "name": "stdout",
     "output_type": "stream",
     "text": [
      "tensor([[[1., 2.],\n",
      "         [3., 4.],\n",
      "         [5., 5.],\n",
      "         [7., 8.]]]) torch.Size([1, 4, 2])\n"
     ]
    }
   ],
   "source": [
    "T_data = [[[1.,2.,],[3.,4.,],\n",
    "          [5.,5.],[7.,8.]]]\n",
    "T = torch.tensor(T_data)\n",
    "print(T, T.shape)"
   ]
  },
  {
   "cell_type": "code",
   "execution_count": 13,
   "metadata": {},
   "outputs": [
    {
     "name": "stdout",
     "output_type": "stream",
     "text": [
      "tensor(1.)\n",
      "1.0\n",
      "tensor([1., 2., 2.])\n",
      "tensor([[1., 2.],\n",
      "        [3., 4.],\n",
      "        [5., 5.],\n",
      "        [7., 8.]])\n"
     ]
    }
   ],
   "source": [
    "print(V[0])\n",
    "print(V[0].item())\n",
    "print(M[0])\n",
    "print(T[0])"
   ]
  },
  {
   "cell_type": "code",
   "execution_count": 15,
   "metadata": {},
   "outputs": [
    {
     "name": "stdout",
     "output_type": "stream",
     "text": [
      "tensor([[[ 0.4100,  0.4085,  0.2579,  1.0950, -0.5065],\n",
      "         [ 0.0998, -0.6540,  0.7317, -1.4567,  1.6089],\n",
      "         [ 0.0938, -1.2597,  0.2546, -0.5020, -1.0412],\n",
      "         [ 0.7323,  1.3075, -1.1628,  0.1196, -0.1631]],\n",
      "\n",
      "        [[ 0.6614,  1.1899,  0.8165, -0.9135, -0.3538],\n",
      "         [ 0.7639, -0.5890, -0.7636,  1.3352,  0.6043],\n",
      "         [-0.1034, -0.1512,  1.2466,  0.5057,  0.9505],\n",
      "         [ 1.2966,  0.8738, -0.5603,  1.2858,  0.8168]],\n",
      "\n",
      "        [[-1.4648, -1.2629,  1.1220,  1.5663, -1.0371],\n",
      "         [-1.0669, -0.2085, -0.2155,  0.2705,  0.5597],\n",
      "         [-0.3184,  1.5117, -1.5208,  0.9196, -0.5484],\n",
      "         [-0.3472, -0.7474, -0.9234,  0.5734, -0.1093]]])\n"
     ]
    }
   ],
   "source": [
    "x = torch.randn((3,4,5))\n",
    "print(x)"
   ]
  },
  {
   "cell_type": "markdown",
   "metadata": {},
   "source": [
    "# 텐서로 작업하기"
   ]
  },
  {
   "cell_type": "code",
   "execution_count": 16,
   "metadata": {},
   "outputs": [
    {
     "name": "stdout",
     "output_type": "stream",
     "text": [
      "tensor([5., 7., 9.])\n"
     ]
    }
   ],
   "source": [
    "x = torch.tensor([1,2,3.])\n",
    "y = torch.tensor([4.,5,6])\n",
    "z = x + y\n",
    "print(z)"
   ]
  },
  {
   "cell_type": "code",
   "execution_count": 17,
   "metadata": {},
   "outputs": [
    {
     "name": "stdout",
     "output_type": "stream",
     "text": [
      "tensor([[-6.9328e-01, -1.6676e-01, -9.9988e-01, -1.6476e+00,  8.0983e-01],\n",
      "        [ 5.5424e-02,  1.1340e+00, -5.3264e-01,  6.5921e-01, -1.5964e+00],\n",
      "        [-3.7687e-01, -3.1020e+00, -9.9467e-02, -7.2126e-01,  1.2708e+00],\n",
      "        [-2.0225e-03, -1.0952e+00,  6.0165e-01,  6.9841e-01, -8.0052e-01],\n",
      "        [ 1.5381e+00,  1.4673e+00,  1.5951e+00, -1.5279e+00,  1.0156e+00]])\n"
     ]
    }
   ],
   "source": [
    "x_1 = torch.randn(2, 5)\n",
    "y_1 = torch.randn(3, 5)\n",
    "z_1 = torch.cat([x_1, y_1])\n",
    "print(z_1)"
   ]
  },
  {
   "cell_type": "code",
   "execution_count": 18,
   "metadata": {},
   "outputs": [
    {
     "name": "stdout",
     "output_type": "stream",
     "text": [
      "tensor([[-0.2020, -1.2865,  0.8231,  0.6684,  1.1628, -0.3229,  1.8782, -0.5666],\n",
      "        [-0.6101, -1.2960, -0.9434,  0.4016, -0.1153,  0.3170,  0.5629,  0.8662]])\n"
     ]
    }
   ],
   "source": [
    "# 세로 연결:\n",
    "x_2 = torch.randn(2, 3)\n",
    "y_2 = torch.randn(2, 5)\n",
    "# 두번째 변수는 연결될 축을 결정합니다.\n",
    "z_2 = torch.cat([x_2, y_2], 1)\n",
    "print(z_2)"
   ]
  },
  {
   "cell_type": "code",
   "execution_count": 19,
   "metadata": {},
   "outputs": [
    {
     "name": "stdout",
     "output_type": "stream",
     "text": [
      "tensor([[[ 0.0127, -1.8734,  1.7997,  0.2824],\n",
      "         [ 0.2151,  0.9385,  1.4657, -0.5565],\n",
      "         [ 2.4142,  1.0206, -0.4405, -1.7342]],\n",
      "\n",
      "        [[-1.0257,  0.5213, -0.4531, -0.1260],\n",
      "         [-0.5882,  2.1189, -0.5422, -2.4593],\n",
      "         [-0.9502, -0.3095,  1.6633,  0.5051]]])\n",
      "tensor([[ 0.0127, -1.8734,  1.7997,  0.2824,  0.2151,  0.9385,  1.4657, -0.5565,\n",
      "          2.4142,  1.0206, -0.4405, -1.7342],\n",
      "        [-1.0257,  0.5213, -0.4531, -0.1260, -0.5882,  2.1189, -0.5422, -2.4593,\n",
      "         -0.9502, -0.3095,  1.6633,  0.5051]])\n",
      "tensor([[ 0.0127, -1.8734,  1.7997,  0.2824,  0.2151,  0.9385,  1.4657, -0.5565,\n",
      "          2.4142,  1.0206, -0.4405, -1.7342],\n",
      "        [-1.0257,  0.5213, -0.4531, -0.1260, -0.5882,  2.1189, -0.5422, -2.4593,\n",
      "         -0.9502, -0.3095,  1.6633,  0.5051]])\n"
     ]
    }
   ],
   "source": [
    "x = torch.randn(2, 3, 4)\n",
    "print(x)\n",
    "print(x.view(2, 12))  # 가로 2 , 세로 12로 재구성\n",
    "# 위와 같이 하나의 차원이 -1이면 그 것의 크기는 유추될 수 있습니다.\n",
    "print(x.view(2, -1))"
   ]
  },
  {
   "cell_type": "code",
   "execution_count": 21,
   "metadata": {},
   "outputs": [
    {
     "name": "stdout",
     "output_type": "stream",
     "text": [
      "tensor([5., 7., 9.], grad_fn=<AddBackward0>)\n",
      "<AddBackward0 object at 0x7f7d643e04e0>\n"
     ]
    }
   ],
   "source": [
    "x = torch.tensor([1.,2,3], requires_grad=True)\n",
    "y = torch.tensor([4,5,6.], requires_grad=True)\n",
    "z=x+y\n",
    "print(z)\n",
    "print(z.grad_fn)"
   ]
  },
  {
   "cell_type": "code",
   "execution_count": 22,
   "metadata": {},
   "outputs": [
    {
     "name": "stdout",
     "output_type": "stream",
     "text": [
      "tensor(21., grad_fn=<SumBackward0>)\n",
      "<SumBackward0 object at 0x7f7cf2854cf8>\n"
     ]
    }
   ],
   "source": [
    "s = z.sum()\n",
    "print(s)\n",
    "print(s.grad_fn)"
   ]
  },
  {
   "cell_type": "code",
   "execution_count": 23,
   "metadata": {},
   "outputs": [
    {
     "name": "stdout",
     "output_type": "stream",
     "text": [
      "tensor([1., 1., 1.])\n"
     ]
    }
   ],
   "source": [
    "s.backward()\n",
    "print(x.grad)"
   ]
  },
  {
   "cell_type": "code",
   "execution_count": 24,
   "metadata": {},
   "outputs": [
    {
     "name": "stdout",
     "output_type": "stream",
     "text": [
      "True\n",
      "True\n"
     ]
    }
   ],
   "source": [
    "print(x.requires_grad)\n",
    "print((x**2).requires_grad)"
   ]
  },
  {
   "cell_type": "code",
   "execution_count": 26,
   "metadata": {},
   "outputs": [
    {
     "name": "stdout",
     "output_type": "stream",
     "text": [
      "False\n"
     ]
    }
   ],
   "source": [
    "with torch.no_grad():\n",
    "    print((x**2).requires_grad)"
   ]
  },
  {
   "cell_type": "code",
   "execution_count": null,
   "metadata": {},
   "outputs": [],
   "source": []
  }
 ],
 "metadata": {
  "kernelspec": {
   "display_name": "Python 3",
   "language": "python",
   "name": "python3"
  },
  "language_info": {
   "codemirror_mode": {
    "name": "ipython",
    "version": 3
   },
   "file_extension": ".py",
   "mimetype": "text/x-python",
   "name": "python",
   "nbconvert_exporter": "python",
   "pygments_lexer": "ipython3",
   "version": "3.6.8"
  }
 },
 "nbformat": 4,
 "nbformat_minor": 2
}
